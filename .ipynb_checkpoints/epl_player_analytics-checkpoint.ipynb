{
 "cells": [
  {
   "cell_type": "markdown",
   "id": "ff81b200-1b51-4590-9762-d71ab8766f6b",
   "metadata": {},
   "source": [
    " ## Python Imports\n",
    "\n",
    "1. **`requests`:** Used for making HTTP requests to fetch data from the Fantasy Premier League API.\n",
    "\n",
    "2. **`json`:** Provides methods for working with JSON data, used to parse the JSON response from the API.\n",
    "\n",
    "3. **`os`:** Allows interaction with the operating system, used for handling file paths and creating directories.\n",
    "\n",
    "4. **`MinMaxScaler` from `sklearn.preprocessing`:** A class from scikit-learn used for scaling numerical features, applied to normalize player \n",
    "data attributes.\n"
   ]
  },
  {
   "cell_type": "code",
   "execution_count": 1,
   "id": "a8a1be14-fa02-4246-ba32-59c59081ecd2",
   "metadata": {},
   "outputs": [
    {
     "name": "stderr",
     "output_type": "stream",
     "text": [
      "/usr/lib/python3/dist-packages/scipy/__init__.py:146: UserWarning: A NumPy version >=1.17.3 and <1.25.0 is required for this version of SciPy (detected version 1.26.3\n",
      "  warnings.warn(f\"A NumPy version >={np_minversion} and <{np_maxversion}\"\n"
     ]
    }
   ],
   "source": [
    "import requests\n",
    "import json\n",
    "import os\n",
    "from sklearn.preprocessing import MinMaxScaler"
   ]
  },
  {
   "cell_type": "markdown",
   "id": "4dfd9c85-6945-4f9a-b541-71a603082a31",
   "metadata": {},
   "source": [
    "## Fetching Premier League Data\n",
    "\n",
    "To retrieve data from the Fantasy Premier League API, the script makes use of the `requests` module. The provided code snippet fetches data from \n",
    "the URL \"https://fantasy.premierleague.com/api/bootstrap-static/\" and converts the HTTP response content into a JSON format using `r.json()`.\n",
    "The resulting data is stored in the `raw_premier_league_data` variable for further processing.\n"
   ]
  },
  {
   "cell_type": "code",
   "execution_count": 2,
   "id": "08367df3-6fbc-456b-bf5c-9876611b891d",
   "metadata": {},
   "outputs": [],
   "source": [
    "url = \"https://fantasy.premierleague.com/api/bootstrap-static/\"\n",
    "\n",
    "r = requests.get(url)\n",
    "\n",
    "raw_premier_league_data = r.json()"
   ]
  },
  {
   "cell_type": "code",
   "execution_count": null,
   "id": "e36a15bf-bd89-4114-a5ca-e587b2503fc2",
   "metadata": {},
   "outputs": [],
   "source": []
  }
 ],
 "metadata": {
  "kernelspec": {
   "display_name": "Python 3 (ipykernel)",
   "language": "python",
   "name": "python3"
  },
  "language_info": {
   "codemirror_mode": {
    "name": "ipython",
    "version": 3
   },
   "file_extension": ".py",
   "mimetype": "text/x-python",
   "name": "python",
   "nbconvert_exporter": "python",
   "pygments_lexer": "ipython3",
   "version": "3.10.12"
  }
 },
 "nbformat": 4,
 "nbformat_minor": 5
}
