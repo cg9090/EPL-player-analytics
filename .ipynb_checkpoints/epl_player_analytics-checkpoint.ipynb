{
 "cells": [
  {
   "cell_type": "markdown",
   "id": "ff81b200-1b51-4590-9762-d71ab8766f6b",
   "metadata": {},
   "source": [
    " ## Python Imports\n",
    "\n",
    "1. **`requests`:** Used for making HTTP requests to fetch data from the Fantasy Premier League API.\n",
    "\n",
    "2. **`json`:** Provides methods for working with JSON data, used to parse the JSON response from the API.\n",
    "\n",
    "3. **`os`:** Allows interaction with the operating system, used for handling file paths and creating directories.\n",
    "\n",
    "4. **`MinMaxScaler` from `sklearn.preprocessing`:** A class from scikit-learn used for scaling numerical features, applied to normalize player \n",
    "data attributes.\n"
   ]
  },
  {
   "cell_type": "code",
   "execution_count": 1,
   "id": "a8a1be14-fa02-4246-ba32-59c59081ecd2",
   "metadata": {},
   "outputs": [
    {
     "name": "stderr",
     "output_type": "stream",
     "text": [
      "/usr/lib/python3/dist-packages/scipy/__init__.py:146: UserWarning: A NumPy version >=1.17.3 and <1.25.0 is required for this version of SciPy (detected version 1.26.3\n",
      "  warnings.warn(f\"A NumPy version >={np_minversion} and <{np_maxversion}\"\n"
     ]
    }
   ],
   "source": [
    "import requests\n",
    "import json\n",
    "import os\n",
    "from sklearn.preprocessing import MinMaxScaler"
   ]
  },
  {
   "cell_type": "markdown",
   "id": "4dfd9c85-6945-4f9a-b541-71a603082a31",
   "metadata": {},
   "source": [
    "## Fetching Premier League Data\n",
    "\n",
    "To retrieve data from the Fantasy Premier League API, the script makes use of the `requests` module. The provided code snippet fetches data from \n",
    "the URL \"https://fantasy.premierleague.com/api/bootstrap-static/\" and converts the HTTP response content into a JSON format using `r.json()`.\n",
    "The resulting data is stored in the `raw_premier_league_data` variable for further processing.\n"
   ]
  },
  {
   "cell_type": "code",
   "execution_count": 2,
   "id": "08367df3-6fbc-456b-bf5c-9876611b891d",
   "metadata": {},
   "outputs": [],
   "source": [
    "url = \"https://fantasy.premierleague.com/api/bootstrap-static/\"\n",
    "\n",
    "r = requests.get(url)\n",
    "\n",
    "raw_premier_league_data = r.json()"
   ]
  },
  {
   "cell_type": "markdown",
   "id": "40b6c95f-2d6e-4dfe-a90f-e530bd2c519b",
   "metadata": {},
   "source": [
    "## Displaying Keys from Premier League Data"
   ]
  },
  {
   "cell_type": "code",
   "execution_count": 3,
   "id": "3f2f3682-2894-4221-b6f5-6d65a97e3ced",
   "metadata": {},
   "outputs": [
    {
     "name": "stdout",
     "output_type": "stream",
     "text": [
      "Keys: dict_keys(['events', 'game_settings', 'phases', 'teams', 'total_players', 'elements', 'element_stats', 'element_types'])\n"
     ]
    }
   ],
   "source": [
    "print(\"Keys:\", raw_premier_league_data.keys())"
   ]
  },
  {
   "cell_type": "markdown",
   "id": "4fb5d033-98ca-4a84-b22d-f16f6e44ac38",
   "metadata": {},
   "source": [
    "## Extracting and Displaying Team Data\n",
    "\n",
    "To work with team data from the Premier League dataset, the script performs the following steps:\n",
    "\n",
    "- Fetches the team data from the Premier League API.\n",
    "- Prints the keys of the first team in the dataset.\n",
    "- Specifies the desired keys to keep (`'code', 'id', 'name', 'short_name'`).\n",
    "- Creates a new list with dictionaries containing only the desired keys for each team.\n",
    "- Displays the shortened list of teams.\n"
   ]
  },
  {
   "cell_type": "code",
   "execution_count": 4,
   "id": "4f101bd8-008d-499f-8e44-48eb8da91c22",
   "metadata": {},
   "outputs": [
    {
     "name": "stdout",
     "output_type": "stream",
     "text": [
      "dict_keys(['code', 'draw', 'form', 'id', 'loss', 'name', 'played', 'points', 'position', 'short_name', 'strength', 'team_division', 'unavailable', 'win', 'strength_overall_home', 'strength_overall_away', 'strength_attack_home', 'strength_attack_away', 'strength_defence_home', 'strength_defence_away', 'pulse_id'])\n",
      "\n",
      "[{'code': 3, 'id': 1, 'name': 'Arsenal', 'short_name': 'ARS'}, {'code': 7, 'id': 2, 'name': 'Aston Villa', 'short_name': 'AVL'}, {'code': 91, 'id': 3, 'name': 'Bournemouth', 'short_name': 'BOU'}, {'code': 94, 'id': 4, 'name': 'Brentford', 'short_name': 'BRE'}, {'code': 36, 'id': 5, 'name': 'Brighton', 'short_name': 'BHA'}, {'code': 90, 'id': 6, 'name': 'Burnley', 'short_name': 'BUR'}, {'code': 8, 'id': 7, 'name': 'Chelsea', 'short_name': 'CHE'}, {'code': 31, 'id': 8, 'name': 'Crystal Palace', 'short_name': 'CRY'}, {'code': 11, 'id': 9, 'name': 'Everton', 'short_name': 'EVE'}, {'code': 54, 'id': 10, 'name': 'Fulham', 'short_name': 'FUL'}, {'code': 14, 'id': 11, 'name': 'Liverpool', 'short_name': 'LIV'}, {'code': 102, 'id': 12, 'name': 'Luton', 'short_name': 'LUT'}, {'code': 43, 'id': 13, 'name': 'Man City', 'short_name': 'MCI'}, {'code': 1, 'id': 14, 'name': 'Man Utd', 'short_name': 'MUN'}, {'code': 4, 'id': 15, 'name': 'Newcastle', 'short_name': 'NEW'}, {'code': 17, 'id': 16, 'name': \"Nott'm Forest\", 'short_name': 'NFO'}, {'code': 49, 'id': 17, 'name': 'Sheffield Utd', 'short_name': 'SHU'}, {'code': 6, 'id': 18, 'name': 'Spurs', 'short_name': 'TOT'}, {'code': 21, 'id': 19, 'name': 'West Ham', 'short_name': 'WHU'}, {'code': 39, 'id': 20, 'name': 'Wolves', 'short_name': 'WOL'}]\n"
     ]
    }
   ],
   "source": [
    "raw_teams_data = raw_premier_league_data[\"teams\"]\n",
    "\n",
    "print(raw_teams_data[0].keys())\n",
    "print()\n",
    "\n",
    "# Specify the keys to keep\n",
    "desired_keys = ['code', 'id', 'name','short_name']\n",
    "\n",
    "# Create a new list with dictionaries containing only the desired keys\n",
    "teams = [{key: value for key, value in entry.items() if key in desired_keys} for entry in raw_teams_data]\n",
    "\n",
    "# Display the shortened list\n",
    "print(teams)"
   ]
  },
  {
   "cell_type": "markdown",
   "id": "d969be70-a997-44dc-8eab-2da89758f5be",
   "metadata": {},
   "source": [
    "## Creating Team Mapping\n",
    "\n",
    "To facilitate matching team names with team IDs used in player information, the script creates a dictionary mapping team IDs to their corresponding names. This is particularly useful when dealing with player data that references team IDs."
   ]
  },
  {
   "cell_type": "code",
   "execution_count": 5,
   "id": "6ea6d237-6703-4554-974d-75871098d435",
   "metadata": {},
   "outputs": [
    {
     "name": "stdout",
     "output_type": "stream",
     "text": [
      "{1: 'Arsenal', 2: 'Aston Villa', 3: 'Bournemouth', 4: 'Brentford', 5: 'Brighton', 6: 'Burnley', 7: 'Chelsea', 8: 'Crystal Palace', 9: 'Everton', 10: 'Fulham', 11: 'Liverpool', 12: 'Luton', 13: 'Man City', 14: 'Man Utd', 15: 'Newcastle', 16: \"Nott'm Forest\", 17: 'Sheffield Utd', 18: 'Spurs', 19: 'West Ham', 20: 'Wolves'}\n"
     ]
    }
   ],
   "source": [
    "# Create a dictionary mapping ids to corresponding team names\n",
    "team_mapping = {team['id']: team['name'] for team in teams}\n",
    "\n",
    "print(team_mapping)"
   ]
  },
  {
   "cell_type": "markdown",
   "id": "fa14c8ac-086b-4e31-a5df-b9fa1f0116c3",
   "metadata": {},
   "source": [
    "## Extracting and Displaying Player Positions\n",
    "\n",
    "To analyse player positions in the Premier League dataset, the script performs the following tasks:\n",
    "\n",
    "- Fetches player position data from the data collected earlier.\n",
    "- Prints the keys of the first player position entry in order to view which keys we want to keep.\n",
    "- Specifies the desired keys to keep (`'id', 'singular_name', 'singular_name_short'`).\n",
    "- Creates a new list with dictionaries containing only the desired keys for each player position.\n",
    "- Displays the shortened list of player positions."
   ]
  },
  {
   "cell_type": "code",
   "execution_count": 6,
   "id": "0c588ee6-7b47-47d3-a92c-70206e18e60f",
   "metadata": {},
   "outputs": [
    {
     "name": "stdout",
     "output_type": "stream",
     "text": [
      "dict_keys(['id', 'plural_name', 'plural_name_short', 'singular_name', 'singular_name_short', 'squad_select', 'squad_min_play', 'squad_max_play', 'ui_shirt_specific', 'sub_positions_locked', 'element_count'])\n",
      "\n",
      "[{'id': 1, 'singular_name': 'Goalkeeper', 'singular_name_short': 'GKP'}, {'id': 2, 'singular_name': 'Defender', 'singular_name_short': 'DEF'}, {'id': 3, 'singular_name': 'Midfielder', 'singular_name_short': 'MID'}, {'id': 4, 'singular_name': 'Forward', 'singular_name_short': 'FWD'}]\n"
     ]
    }
   ],
   "source": [
    "raw_positions_data = raw_premier_league_data[\"element_types\"]\n",
    "\n",
    "print(raw_positions_data[0].keys())\n",
    "print()\n",
    "\n",
    "# Specify the keys you want to keep\n",
    "desired_keys = ['id', 'singular_name', 'singular_name_short']\n",
    "\n",
    "# Create a new list with dictionaries containing only the desired keys\n",
    "positions = [{key: value for key, value in entry.items() if key in desired_keys} for entry in raw_positions_data]\n",
    "\n",
    "# Display the shortened list\n",
    "print(positions)"
   ]
  },
  {
   "cell_type": "markdown",
   "id": "f0c031b1-e600-499d-8d52-84eb9d981744",
   "metadata": {},
   "source": [
    "## Handling None Values in Player Data\n",
    "\n",
    "To ensure consistent data and handle potential None values in the player data, the script performs the following steps:\n",
    "\n",
    "- Retrieves player data from the original Premier League dataset.\n",
    "- Iterates through each player's data.\n",
    "- Replaces any None values with a default value (e.g., 0)."
   ]
  },
  {
   "cell_type": "code",
   "execution_count": 7,
   "id": "b0fb8cab-265d-4b32-a2be-bf0c63898a9d",
   "metadata": {},
   "outputs": [],
   "source": [
    "raw_player_data = raw_premier_league_data[\"elements\"]\n",
    "\n",
    "# Replace None values with a default value (0)\n",
    "for player in raw_player_data:\n",
    "    for key, value in player.items():\n",
    "        if value is None:\n",
    "            player[key] = 0"
   ]
  },
  {
   "cell_type": "markdown",
   "id": "ad86d539-f14b-4e62-b869-bbf4fa5f9a17",
   "metadata": {},
   "source": [
    "## Specifying Keys for Player Positions\n",
    "\n",
    "To streamline the analysis of player positions, the script defines specific sets of keys for different player positions. This helps organize and focus on relevant attributes for each position"
   ]
  },
  {
   "cell_type": "code",
   "execution_count": 8,
   "id": "6f72481b-b238-4611-9792-169bc5a6e730",
   "metadata": {},
   "outputs": [],
   "source": [
    "# Specify the keys you want to keep for each position\n",
    "desired_keys_general = ['code', 'id', 'first_name', 'second_name', 'element_type', 'form', 'chance_of_playing_next_round', 'now_cost',\n",
    "                        'points_per_game','selected_by_percent', 'team', 'team_code', 'total_points', 'yellow_cards', 'red_cards','bonus','bps',\n",
    "                        'influence', 'team_name']\n",
    "desired_keys_outfield = ['goals_scored', 'assists', 'penalties_missed', 'creativity', 'threat', 'ict_index','expected_goals',\n",
    "                                 'expected_assists', 'expected_goal_involvements'] + desired_keys_general\n",
    "desired_keys_midfielders = ['clean_sheets'] + desired_keys_outfield\n",
    "desired_keys_defenders = ['goals_conceded', 'clean_sheets','expected_goals_conceded', 'own_goals'] + desired_keys_outfield\n",
    "desired_keys_goalkeepers = ['goals_conceded', 'clean_sheets', 'expected_goals_conceded', 'penalties_saved', 'saves'] + desired_keys_general"
   ]
  },
  {
   "cell_type": "markdown",
   "id": "5da5df8c-8b45-4222-8e93-4bcbb5c66ebd",
   "metadata": {},
   "source": [
    "## Creating Dictionaries for Each Player Position\n",
    "\n",
    "This section of the script involves the creation of dictionaries to categorize players based on their positions. Additionally, the team name is added to each player's information based on the corresponding team ID. Here's an overview of the process:\n",
    "\n",
    "- **Team Name Addition:**\n",
    "  - The team name is added to each player's information by referencing the `team_mapping` dictionary, using the team ID.\n",
    "\n",
    "- **Player Categorization:**\n",
    "  - Players are categorized into the respective dictionaries (`defenders`, `attackers`, `midfielders`, `goalkeepers`) based on their position.\n"
   ]
  },
  {
   "cell_type": "code",
   "execution_count": 9,
   "id": "bbe7c1a1-e147-4ec5-b01a-f8b507b0ee38",
   "metadata": {},
   "outputs": [
    {
     "name": "stdout",
     "output_type": "stream",
     "text": [
      "Attackers: {'goals_scored': 0, 'assists': 0, 'penalties_missed': 0, 'creativity': '0.0', 'threat': '0.0', 'ict_index': '0.0', 'expected_goals': '0.00', 'expected_assists': '0.00', 'expected_goal_involvements': '0.00', 'code': 232223, 'id': 1, 'first_name': 'Folarin', 'second_name': 'Balogun', 'element_type': 4, 'form': '0.0', 'chance_of_playing_next_round': 0, 'now_cost': 44, 'points_per_game': '0.0', 'selected_by_percent': '0.2', 'team': 1, 'team_code': 3, 'total_points': 0, 'yellow_cards': 0, 'red_cards': 0, 'bonus': 0, 'bps': 0, 'influence': '0.0', 'team_name': 'Arsenal'}\n",
      "\n",
      "Midfielders: {'clean_sheets': 0, 'goals_scored': 0, 'assists': 1, 'penalties_missed': 0, 'creativity': '0.5', 'threat': '2.0', 'ict_index': '0.4', 'expected_goals': '0.00', 'expected_assists': '0.00', 'expected_goal_involvements': '0.00', 'code': 153256, 'id': 3, 'first_name': 'Mohamed', 'second_name': 'Elneny', 'element_type': 3, 'form': '0.0', 'chance_of_playing_next_round': 0, 'now_cost': 44, 'points_per_game': '4.0', 'selected_by_percent': '0.1', 'team': 1, 'team_code': 3, 'total_points': 4, 'yellow_cards': 0, 'red_cards': 0, 'bonus': 0, 'bps': 12, 'influence': '1.8', 'team_name': 'Arsenal'}\n",
      "\n",
      "Defenders: {'goals_conceded': 0, 'clean_sheets': 0, 'expected_goals_conceded': '0.00', 'own_goals': 0, 'goals_scored': 0, 'assists': 0, 'penalties_missed': 0, 'creativity': '0.0', 'threat': '0.0', 'ict_index': '0.0', 'expected_goals': '0.00', 'expected_assists': '0.00', 'expected_goal_involvements': '0.00', 'code': 58822, 'id': 2, 'first_name': 'Cédric', 'second_name': 'Alves Soares', 'element_type': 2, 'form': '0.0', 'chance_of_playing_next_round': 0, 'now_cost': 39, 'points_per_game': '0.0', 'selected_by_percent': '0.4', 'team': 1, 'team_code': 3, 'total_points': 0, 'yellow_cards': 0, 'red_cards': 0, 'bonus': 0, 'bps': 0, 'influence': '0.0', 'team_name': 'Arsenal'}\n",
      "\n",
      "Goalkeepers: {'goals_conceded': 4, 'clean_sheets': 2, 'expected_goals_conceded': '4.84', 'penalties_saved': 0, 'saves': 6, 'code': 225321, 'id': 17, 'first_name': 'Aaron', 'second_name': 'Ramsdale', 'element_type': 1, 'form': '0.0', 'chance_of_playing_next_round': 0, 'now_cost': 46, 'points_per_game': '3.4', 'selected_by_percent': '6.1', 'team': 1, 'team_code': 3, 'total_points': 17, 'yellow_cards': 0, 'red_cards': 0, 'bonus': 0, 'bps': 77, 'influence': '55.8', 'team_name': 'Arsenal'}\n"
     ]
    }
   ],
   "source": [
    "# Create dictionaries for each position\n",
    "defenders = []\n",
    "attackers = []\n",
    "midfielders = []\n",
    "goalkeepers = []\n",
    "\n",
    "for entry in raw_player_data:\n",
    "    position = entry.get('element_type')\n",
    "\n",
    "    # Adding team name base on team id\n",
    "    team_id = entry.get('team')\n",
    "    if team_id in team_mapping:\n",
    "        entry['team_name'] = team_mapping[team_id]\n",
    "    \n",
    "    if position == 1:\n",
    "        keys_to_use = desired_keys_goalkeepers\n",
    "        goalkeepers.append({key: entry[key] for key in keys_to_use})\n",
    "    elif position == 2:\n",
    "        keys_to_use = desired_keys_defenders\n",
    "        defenders.append({key: entry[key] for key in keys_to_use})\n",
    "    elif position == 3:\n",
    "        keys_to_use =  desired_keys_midfielders\n",
    "        midfielders.append({key: entry[key] for key in keys_to_use})\n",
    "    elif position == 4:\n",
    "        keys_to_use = desired_keys_outfield\n",
    "        attackers.append({key: entry[key] for key in keys_to_use})\n",
    "\n",
    "# Display the first dictionary for each position\n",
    "print(\"Attackers:\", attackers[0])\n",
    "print()\n",
    "print(\"Midfielders:\", midfielders[0])\n",
    "print()\n",
    "print(\"Defenders:\", defenders[0])\n",
    "print()\n",
    "print(\"Goalkeepers:\", goalkeepers[0])"
   ]
  },
  {
   "cell_type": "markdown",
   "id": "daef662d-9876-4ac4-8d14-495ec49d6baa",
   "metadata": {},
   "source": [
    "## Normalisation"
   ]
  },
  {
   "cell_type": "markdown",
   "id": "dcbc978c-8d4a-4360-a4f0-5e6e10815579",
   "metadata": {},
   "source": [
    "This section defines the attributes that will be normalised for different player positions. The normalisation process ensures that all values fall within a consistent scale for fair comparison across players."
   ]
  },
  {
   "cell_type": "code",
   "execution_count": 14,
   "id": "ac3ac44f-4d2f-418f-90a4-481083db31e4",
   "metadata": {},
   "outputs": [],
   "source": [
    "# Specify the attributes you want to normalize\n",
    "attributes_to_normalize_general = ['form', 'chance_of_playing_next_round', 'now_cost','points_per_game','selected_by_percent', 'total_points', \n",
    "                                   'yellow_cards', 'red_cards','bonus','bps','influence']\n",
    "attributes_to_normalize_outfield = ['goals_scored', 'assists', 'penalties_missed', 'creativity', 'threat', 'ict_index','expected_goals', \n",
    "                                    'expected_assists', 'expected_goal_involvements'] + attributes_to_normalize_general\n",
    "attributes_to_normalize_midfield = ['clean_sheets'] + attributes_to_normalize_outfield\n",
    "attributes_to_normalize_defence = ['goals_conceded', 'clean_sheets','expected_goals_conceded', 'own_goals'] + attributes_to_normalize_outfield\n",
    "attributes_to_normalize_goalkeeper = ['goals_conceded', 'clean_sheets', 'expected_goals_conceded', 'penalties_saved', 'saves'] + attributes_to_normalize_general\n"
   ]
  },
  {
   "cell_type": "markdown",
   "id": "bc14cbcf-0e9b-4ae8-918b-5bf975df2064",
   "metadata": {},
   "source": [
    "## Min-Max Normalisation for attributes\n",
    "\n",
    "In this step, the attributes specific to attackers are normalised using the Min-Max scaling technique. Min-Max scaling ensures that all attribute values fall within a standardised range, making them comparable. Here's a breakdown of the process:\n",
    "\n",
    "1. **Extract Attribute Values:**\n",
    "   - The values for the selected attributes for attackers are extracted into a 2D list.\n",
    "\n",
    "2. **Min-Max Scaling:**\n",
    "   - The `MinMaxScaler` from scikit-learn is used to perform Min-Max scaling on the selected attribute values.\n",
    "values.\n",
    "\n",
    "3. **Update Normalised Values:**\n",
    "   - The normalised attribute values are then updated back to the respective dictionaries for each position."
   ]
  },
  {
   "cell_type": "code",
   "execution_count": 15,
   "id": "1026d18c-91d9-4080-b04f-c73ab5db27c9",
   "metadata": {},
   "outputs": [],
   "source": [
    "# Extract the selected attribute values into a 2D list\n",
    "selected_attributes_values = [[player[attr] for attr in attributes_to_normalize_outfield] for player in attackers]\n",
    "\n",
    "# Use Min-Max scaling to normalise the selected attributes\n",
    "scaler = MinMaxScaler()\n",
    "normalized_attributes = scaler.fit_transform(selected_attributes_values)\n",
    "\n",
    "# Update the normalised values back to the dictionaries\n",
    "for i, player in enumerate(attackers):\n",
    "    for j, attr in enumerate(attributes_to_normalize_outfield):\n",
    "        player[attr] = normalized_attributes[i][j]"
   ]
  },
  {
   "cell_type": "markdown",
   "id": "5fc3db34-4203-4689-97f1-54bb206ed46d",
   "metadata": {},
   "source": [
    "This next section applies the same process to the other positions"
   ]
  },
  {
   "cell_type": "code",
   "execution_count": 16,
   "id": "4445471b-e07f-459f-8150-85471385dc47",
   "metadata": {},
   "outputs": [],
   "source": [
    "#Normalising for midfielders\n",
    "selected_attributes_values = [[player[attr] for attr in attributes_to_normalize_midfield] for player in midfielders]\n",
    "\n",
    "scaler = MinMaxScaler()\n",
    "normalized_attributes = scaler.fit_transform(selected_attributes_values)\n",
    "\n",
    "for i, player in enumerate(midfielders):\n",
    "    for j, attr in enumerate(attributes_to_normalize_midfield):\n",
    "        player[attr] = normalized_attributes[i][j]\n",
    "\n",
    "#Normalising for defenders\n",
    "selected_attributes_values = [[player[attr] for attr in attributes_to_normalize_defence] for player in defenders]\n",
    "\n",
    "scaler = MinMaxScaler()\n",
    "normalized_attributes = scaler.fit_transform(selected_attributes_values)\n",
    "\n",
    "for i, player in enumerate(defenders):\n",
    "    for j, attr in enumerate(attributes_to_normalize_defence):\n",
    "        player[attr] = normalized_attributes[i][j]\n",
    "\n",
    "#Normalising for goalkeepers\n",
    "selected_attributes_values = [[player[attr] for attr in attributes_to_normalize_goalkeeper] for player in goalkeepers]\n",
    "\n",
    "scaler = MinMaxScaler()\n",
    "normalized_attributes = scaler.fit_transform(selected_attributes_values)\n",
    "\n",
    "for i, player in enumerate(goalkeepers):\n",
    "    for j, attr in enumerate(attributes_to_normalize_goalkeeper):\n",
    "        player[attr] = normalized_attributes[i][j]"
   ]
  },
  {
   "cell_type": "markdown",
   "id": "fb8a44ce-fb58-4a62-9e60-0591b82309e6",
   "metadata": {},
   "source": [
    "We then display the results"
   ]
  },
  {
   "cell_type": "code",
   "execution_count": 17,
   "id": "1e1365ab-b14b-4533-8eed-cf437dc04ff2",
   "metadata": {},
   "outputs": [
    {
     "name": "stdout",
     "output_type": "stream",
     "text": [
      "{'goals_scored': 0.0, 'assists': 0.0, 'penalties_missed': 0.0, 'creativity': 0.0, 'threat': 0.0, 'ict_index': 0.0, 'expected_goals': 0.0, 'expected_assists': 0.0, 'expected_goal_involvements': 0.0, 'code': 232223, 'id': 1, 'first_name': 'Folarin', 'second_name': 'Balogun', 'element_type': 4, 'form': 0.058823529411764705, 'chance_of_playing_next_round': 0.0, 'now_cost': 0.02061855670103091, 'points_per_game': 0.0, 'selected_by_percent': 0.0036101083032490976, 'team': 1, 'team_code': 3, 'total_points': 0.0, 'yellow_cards': 0.0, 'red_cards': 0.0, 'bonus': 0.0, 'bps': 0.0, 'influence': 0.0, 'team_name': 'Arsenal'}\n",
      "{'clean_sheets': 0.0, 'goals_scored': 0.0, 'assists': 0.125, 'penalties_missed': 0.0, 'creativity': 0.0005817335660267597, 'threat': 0.002129925452609159, 'ict_index': 0.001716001716001716, 'expected_goals': 0.0, 'expected_assists': 0.0, 'expected_goal_involvements': 0.0, 'code': 153256, 'id': 3, 'first_name': 'Mohamed', 'second_name': 'Elneny', 'element_type': 3, 'form': 0.06666666666666667, 'chance_of_playing_next_round': 0.0, 'now_cost': 0.02247191011235955, 'points_per_game': 0.5128205128205129, 'selected_by_percent': 0.0016129032258064516, 'team': 1, 'team_code': 3, 'total_points': 0.02564102564102564, 'yellow_cards': 0.0, 'red_cards': 0.0, 'bonus': 0.0, 'bps': 0.029723991507430998, 'influence': 0.0023346303501945525, 'team_name': 'Arsenal'}\n",
      "{'goals_conceded': 0.0, 'clean_sheets': 0.0, 'expected_goals_conceded': 0.0, 'own_goals': 0.0, 'goals_scored': 0.0, 'assists': 0.0, 'penalties_missed': 0.0, 'creativity': 0.0, 'threat': 0.0, 'ict_index': 0.0, 'expected_goals': 0.0, 'expected_assists': 0.0, 'expected_goal_involvements': 0.0, 'code': 58822, 'id': 2, 'first_name': 'Cédric', 'second_name': 'Alves Soares', 'element_type': 2, 'form': 0.0, 'chance_of_playing_next_round': 0.0, 'now_cost': 0.021276595744680882, 'points_per_game': 0.0, 'selected_by_percent': 0.010498687664041995, 'team': 1, 'team_code': 3, 'total_points': 0.0, 'yellow_cards': 0.0, 'red_cards': 0.0, 'bonus': 0.0, 'bps': 0.0, 'influence': 0.0, 'team_name': 'Arsenal'}\n",
      "{'goals_conceded': 0.0784313725490196, 'clean_sheets': 0.2857142857142857, 'expected_goals_conceded': 0.11521066412758867, 'penalties_saved': 0.0, 'saves': 0.06521739130434782, 'code': 225321, 'id': 17, 'first_name': 'Aaron', 'second_name': 'Ramsdale', 'element_type': 1, 'form': 0.0, 'chance_of_playing_next_round': 0.0, 'now_cost': 0.4500000000000002, 'points_per_game': 0.6415094339622642, 'selected_by_percent': 0.16666666666666666, 'team': 1, 'team_code': 3, 'total_points': 0.2142857142857143, 'yellow_cards': 0.0, 'red_cards': 0.0, 'bonus': 0.0, 'bps': 0.18433179723502305, 'influence': 0.07903682719546742, 'team_name': 'Arsenal'}\n"
     ]
    }
   ],
   "source": [
    "# Display the normalised data\n",
    "print(attackers[0])\n",
    "print(midfielders[0])\n",
    "print(defenders[0])\n",
    "print(goalkeepers[0])"
   ]
  },
  {
   "cell_type": "markdown",
   "id": "6cd4f09c-532b-48d2-b99d-7f3a7fc4cc05",
   "metadata": {},
   "source": [
    "## Attribute Weights for Player Ranking\n",
    "\n",
    "In this section, attribute weights are assigned to different player statistics for the purpose of calculating composite scores. These weights determine the relative importance of each attribute in the overall ranking. Users can adjust these weights based on their preferences and considerations. Negative weights are used for attributes that should reflect poorly on a players ability."
   ]
  },
  {
   "cell_type": "code",
   "execution_count": 18,
   "id": "e968cf1b-21e4-4afa-931c-3a8400a471cc",
   "metadata": {},
   "outputs": [],
   "source": [
    "general_weights = {\n",
    "    'form': 6,\n",
    "    'now_cost': -1,\n",
    "    'points_per_game': 3,\n",
    "    'selected_by_percent': 2,\n",
    "    'total_points': 3,\n",
    "    'yellow_cards': -1,\n",
    "    'red_cards': -2,\n",
    "    'bonus': 1,\n",
    "    'bps': 1,\n",
    "    'influence': 2\n",
    "}\n",
    "outfield_weights =  {\n",
    "    'goals_scored': 4, \n",
    "    'assists': 3, \n",
    "    'penalties_missed': 2, \n",
    "    'creativity': 1,\n",
    "    'threat': 4, \n",
    "    'ict_index': 2,\n",
    "    'expected_goals': 3, \n",
    "    'expected_assists': 2, \n",
    "    'expected_goal_involvements': 2\n",
    "}\n",
    "midfield_weights = {\n",
    "    'clean_sheets': 1\n",
    "}\n",
    "defence_weights = {\n",
    "    'goals_conceded': -3, \n",
    "    'clean_sheets': 3,\n",
    "    'expected_goals_conceded': -1, \n",
    "    'own_goals': -2\n",
    "}\n",
    "goalkeeper_weights = {\n",
    "    'goals_conceded': -3, \n",
    "    'clean_sheets': 3,\n",
    "    'expected_goals_conceded': -1, \n",
    "    'penalties_saved': 2, \n",
    "    'saves': 4\n",
    "}"
   ]
  },
  {
   "cell_type": "markdown",
   "id": "a627c4f4-8a80-47dc-893a-785c1c0a134e",
   "metadata": {},
   "source": [
    "## Combined Weights for Player Categories"
   ]
  },
  {
   "cell_type": "code",
   "execution_count": 19,
   "id": "4aa86682-4efc-4261-8709-d6e87289c41d",
   "metadata": {},
   "outputs": [
    {
     "name": "stdout",
     "output_type": "stream",
     "text": [
      "{'form': 6, 'now_cost': -1, 'points_per_game': 3, 'selected_by_percent': 2, 'total_points': 3, 'yellow_cards': -1, 'red_cards': -2, 'bonus': 1, 'bps': 1, 'influence': 2, 'goals_scored': 4, 'assists': 3, 'penalties_missed': 2, 'creativity': 1, 'threat': 4, 'ict_index': 2, 'expected_goals': 3, 'expected_assists': 2, 'expected_goal_involvements': 2}\n",
      "{'form': 6, 'now_cost': -1, 'points_per_game': 3, 'selected_by_percent': 2, 'total_points': 3, 'yellow_cards': -1, 'red_cards': -2, 'bonus': 1, 'bps': 1, 'influence': 2, 'goals_scored': 4, 'assists': 3, 'penalties_missed': 2, 'creativity': 1, 'threat': 4, 'ict_index': 2, 'expected_goals': 3, 'expected_assists': 2, 'expected_goal_involvements': 2, 'clean_sheets': 1}\n",
      "{'form': 6, 'now_cost': -1, 'points_per_game': 3, 'selected_by_percent': 2, 'total_points': 3, 'yellow_cards': -1, 'red_cards': -2, 'bonus': 1, 'bps': 1, 'influence': 2, 'goals_scored': 4, 'assists': 3, 'penalties_missed': 2, 'creativity': 1, 'threat': 4, 'ict_index': 2, 'expected_goals': 3, 'expected_assists': 2, 'expected_goal_involvements': 2, 'goals_conceded': -3, 'clean_sheets': 3, 'expected_goals_conceded': -1, 'own_goals': -2}\n",
      "{'form': 6, 'now_cost': -1, 'points_per_game': 3, 'selected_by_percent': 2, 'total_points': 3, 'yellow_cards': -1, 'red_cards': -2, 'bonus': 1, 'bps': 1, 'influence': 2, 'goals_conceded': -3, 'clean_sheets': 3, 'expected_goals_conceded': -1, 'penalties_saved': 2, 'saves': 4}\n"
     ]
    }
   ],
   "source": [
    "# Use the update method to combine the dictionaries\n",
    "attackers_weights = general_weights.copy()  # Create a copy to avoid modifying the original dictionary\n",
    "attackers_weights.update(outfield_weights)\n",
    "\n",
    "midfielders_weights = general_weights.copy()\n",
    "midfielders_weights.update(outfield_weights)\n",
    "midfielders_weights.update(midfield_weights)\n",
    "\n",
    "defenders_weights = general_weights.copy()\n",
    "defenders_weights.update(outfield_weights)\n",
    "defenders_weights.update(defence_weights)\n",
    "\n",
    "goalkeepers_weights = general_weights.copy()\n",
    "goalkeepers_weights.update(goalkeeper_weights)\n",
    "\n",
    "print(attackers_weights)\n",
    "print(midfielders_weights)\n",
    "print(defenders_weights)\n",
    "print(goalkeepers_weights)"
   ]
  },
  {
   "cell_type": "markdown",
   "id": "df0018dd-3ff7-4ffd-afb6-cc12edf40d29",
   "metadata": {},
   "source": [
    "## Calculate Composite Scores for Attackers\n",
    "\n",
    "In this step, composite scores are calculated for attackers based on the specified weights for each attribute."
   ]
  },
  {
   "cell_type": "code",
   "execution_count": 22,
   "id": "bafedd4a-25d7-4260-9c26-cc67d2ff9ec6",
   "metadata": {},
   "outputs": [],
   "source": [
    "# Calculate a composite score for each player\n",
    "for player in attackers:\n",
    "    composite_score = sum(float(player[attr]) * attackers_weights[attr] for attr in attackers_weights)\n",
    "    player['composite_score'] = composite_score"
   ]
  },
  {
   "cell_type": "markdown",
   "id": "4f81b4d0-18c0-48fa-ab62-c3ff45bad47c",
   "metadata": {},
   "source": [
    "After calculating the composite scores for each attacker, the players are ranked in descending order based on their composite scores. The top 10 attackers are then displayed along with their respective ranks and composite scores."
   ]
  },
  {
   "cell_type": "code",
   "execution_count": 23,
   "id": "4de83dd8-6a45-47ba-9053-45f7e36365f2",
   "metadata": {},
   "outputs": [
    {
     "name": "stdout",
     "output_type": "stream",
     "text": [
      "TOP 10 ATTACKERS\n",
      "Rank 1: Ollie Watkins - Composite Score: 29.986219465296028\n",
      "Rank 2: Erling Haaland - Composite Score: 29.615818417780382\n",
      "Rank 3: Julián Álvarez - Composite Score: 26.503989011953863\n",
      "Rank 4: Darwin Núñez Ribeiro - Composite Score: 26.33526243959387\n",
      "Rank 5: Dominic Solanke - Composite Score: 23.638942248199015\n",
      "Rank 6: Matheus Santos Carneiro Da Cunha - Composite Score: 22.62412512270106\n",
      "Rank 7: Alexander Isak - Composite Score: 22.113418329974078\n",
      "Rank 8: João Pedro Junqueira de Jesus - Composite Score: 19.16628235635202\n",
      "Rank 9: Nicolas Jackson - Composite Score: 17.690802038039216\n",
      "Rank 10: Chris Wood - Composite Score: 17.55663346378527\n"
     ]
    }
   ],
   "source": [
    "# Rank the players based on their composite scores\n",
    "ranked_attackers = sorted(attackers, key=lambda x: x['composite_score'], reverse=True)\n",
    "\n",
    "# Display the ranked list of attackers\n",
    "print('TOP 10 ATTACKERS')\n",
    "for rank, player in enumerate(ranked_attackers[:10], 1):\n",
    "    print(f\"Rank {rank}: {player['first_name']} {player['second_name']} - Composite Score: {player['composite_score']}\")"
   ]
  },
  {
   "cell_type": "markdown",
   "id": "9fbaf6e8-5b97-448e-80db-df216aea4403",
   "metadata": {},
   "source": [
    "This is then repeated for each position"
   ]
  },
  {
   "cell_type": "code",
   "execution_count": 24,
   "id": "603e5058-66fa-41dd-90b6-6c95d717564e",
   "metadata": {},
   "outputs": [
    {
     "name": "stdout",
     "output_type": "stream",
     "text": [
      "\n",
      "TOP 10 MIDFIELDERS\n",
      "Rank 1: Mohamed Salah - Composite Score: 36.47451644463551\n",
      "Rank 2: Bukayo Saka - Composite Score: 26.467793707788555\n",
      "Rank 3: Son Heung-min - Composite Score: 25.74219484859086\n",
      "Rank 4: Cole Palmer - Composite Score: 25.398247354155384\n",
      "Rank 5: Jarrod Bowen - Composite Score: 21.792751784020155\n",
      "Rank 6: Phil Foden - Composite Score: 21.770100250777187\n",
      "Rank 7: Anthony Gordon - Composite Score: 20.79269119503874\n",
      "Rank 8: James Ward-Prowse - Composite Score: 18.575589180295804\n",
      "Rank 9: Diogo Teixeira da Silva - Composite Score: 18.115677923547327\n",
      "Rank 10: Douglas Luiz Soares de Paulo - Composite Score: 17.93220222209217\n",
      "\n",
      "TOP 10 DEFENDERS\n",
      "Rank 1: Pedro Porro - Composite Score: 23.959791324008116\n",
      "Rank 2: Trent Alexander-Arnold - Composite Score: 22.64528201049786\n",
      "Rank 3: Gabriel dos Santos Magalhães - Composite Score: 20.194822505215335\n",
      "Rank 4: Kieran Trippier - Composite Score: 19.75971085946291\n",
      "Rank 5: Alfie Doughty - Composite Score: 17.67226291177385\n",
      "Rank 6: Pervis Estupiñán - Composite Score: 17.619102011180168\n",
      "Rank 7: Vitalii Mykolenko - Composite Score: 17.044757136905123\n",
      "Rank 8: Virgil van Dijk - Composite Score: 16.99911718003737\n",
      "Rank 9: Matty Cash - Composite Score: 16.929240949725195\n",
      "Rank 10: Craig Dawson - Composite Score: 16.395195728389936\n",
      "\n",
      "TOP 10 GOALKEEPERS\n",
      "Rank 1: Alphonse Areola - Composite Score: 19.93702459124849\n",
      "Rank 2: Alisson Ramses Becker - Composite Score: 14.150218350102467\n",
      "Rank 3: Jordan Pickford - Composite Score: 14.070023654255795\n",
      "Rank 4: David Raya Martin - Composite Score: 13.72459881655368\n",
      "Rank 5: Emiliano Martínez Romero - Composite Score: 12.554205430463703\n",
      "Rank 6: Norberto Murara Neto - Composite Score: 12.114351598099725\n",
      "Rank 7: Bernd Leno - Composite Score: 11.591274204365522\n",
      "Rank 8: José Malheiro de Sá - Composite Score: 11.567477691733357\n",
      "Rank 9: Jason Steele - Composite Score: 11.250838059098559\n",
      "Rank 10: André Onana - Composite Score: 11.180101951040644\n"
     ]
    }
   ],
   "source": [
    "# Midfielders\n",
    "\n",
    "for player in midfielders:\n",
    "    composite_score = sum(float(player[attr]) * midfielders_weights[attr] for attr in midfielders_weights)\n",
    "    player['composite_score'] = composite_score\n",
    "\n",
    "ranked_midfielders = sorted(midfielders, key=lambda x: x['composite_score'], reverse=True)\n",
    "\n",
    "print()\n",
    "print('TOP 10 MIDFIELDERS')\n",
    "for rank, player in enumerate(ranked_midfielders[:10], 1):\n",
    "    print(f\"Rank {rank}: {player['first_name']} {player['second_name']} - Composite Score: {player['composite_score']}\")\n",
    "\n",
    "# Defenders\n",
    "for player in defenders:\n",
    "    composite_score = sum(float(player[attr]) * defenders_weights[attr] for attr in defenders_weights)\n",
    "    player['composite_score'] = composite_score\n",
    "\n",
    "ranked_defenders = sorted(defenders, key=lambda x: x['composite_score'], reverse=True)\n",
    "\n",
    "print()\n",
    "print('TOP 10 DEFENDERS')\n",
    "for rank, player in enumerate(ranked_defenders[:10], 1):\n",
    "    print(f\"Rank {rank}: {player['first_name']} {player['second_name']} - Composite Score: {player['composite_score']}\")\n",
    "\n",
    "# Goalkeepers\n",
    "for player in goalkeepers:\n",
    "    composite_score = sum(float(player[attr]) * goalkeepers_weights[attr] for attr in goalkeepers_weights)\n",
    "    player['composite_score'] = composite_score\n",
    "\n",
    "ranked_goalkeepers = sorted(goalkeepers, key=lambda x: x['composite_score'], reverse=True)\n",
    "\n",
    "print()\n",
    "print('TOP 10 GOALKEEPERS')\n",
    "for rank, player in enumerate(ranked_goalkeepers[:10], 1):\n",
    "    print(f\"Rank {rank}: {player['first_name']} {player['second_name']} - Composite Score: {player['composite_score']}\")\n"
   ]
  },
  {
   "cell_type": "markdown",
   "id": "61fc83a3-f900-404a-b91c-38170ea2c411",
   "metadata": {},
   "source": [
    "## Save Ranked Attacker Data\n",
    "\n",
    "A subfolder named 'Ranked_Player_Data' is created to store the ranked attacker data. If the subfolder doesn't exist, it is created. The data is then saved to a JSON file named 'ranked_attacker_data.json' within the subfolder. The full file path is displayed after saving the data."
   ]
  },
  {
   "cell_type": "code",
   "execution_count": 25,
   "id": "d1d352cd-419b-4c69-800e-030d63930102",
   "metadata": {},
   "outputs": [
    {
     "name": "stdout",
     "output_type": "stream",
     "text": [
      "Attacker data saved to Ranked_Player_Data/ranked_attacker_data.json\n"
     ]
    }
   ],
   "source": [
    "subfolder = 'Ranked_Player_Data'\n",
    "\n",
    "# Create the subfolder if it doesn't exist\n",
    "if not os.path.exists(subfolder):\n",
    "    os.makedirs(subfolder)\n",
    "\n",
    "# Specify the file name for the JSON data\n",
    "file_name = 'ranked_attacker_data.json'\n",
    "\n",
    "# Construct the full file path\n",
    "file_path = os.path.join(subfolder, file_name)\n",
    "\n",
    "# Write data to the JSON file\n",
    "with open(file_path, 'w') as json_file:\n",
    "    json.dump(ranked_attackers, json_file, indent=2)\n",
    "\n",
    "print(f'Attacker data saved to {file_path}')"
   ]
  },
  {
   "cell_type": "markdown",
   "id": "cab50c33-b3d7-4d68-a265-96fcaaaa860c",
   "metadata": {},
   "source": [
    "The same is then done for the other postions"
   ]
  },
  {
   "cell_type": "code",
   "execution_count": 26,
   "id": "22abc912-ce96-4124-9443-6454c5260b6e",
   "metadata": {},
   "outputs": [
    {
     "name": "stdout",
     "output_type": "stream",
     "text": [
      "Midfielder data saved to Ranked_Player_Data/ranked_midfielder_data.json\n",
      "Defender data saved to Ranked_Player_Data/ranked_defender_data.json\n",
      "Goalkeeper data saved to Ranked_Player_Data/ranked_goalkeeper_data.json\n"
     ]
    }
   ],
   "source": [
    "# Midfielders\n",
    "file_name = 'ranked_midfielder_data.json'\n",
    "file_path = os.path.join(subfolder, file_name)\n",
    "\n",
    "with open(file_path, 'w') as json_file:\n",
    "    json.dump(ranked_midfielders, json_file, indent=2)\n",
    "\n",
    "print(f'Midfielder data saved to {file_path}')\n",
    "\n",
    "# Defender\n",
    "file_name = 'ranked_defender_data.json'\n",
    "file_path = os.path.join(subfolder, file_name)\n",
    "\n",
    "with open(file_path, 'w') as json_file:\n",
    "    json.dump(ranked_defenders, json_file, indent=2)\n",
    "\n",
    "print(f'Defender data saved to {file_path}')\n",
    "\n",
    "# Goalkeeper\n",
    "file_name = 'ranked_goalkeeper_data.json'\n",
    "file_path = os.path.join(subfolder, file_name)\n",
    "\n",
    "with open(file_path, 'w') as json_file:\n",
    "    json.dump(ranked_goalkeepers, json_file, indent=2)\n",
    "\n",
    "print(f'Goalkeeper data saved to {file_path}')\n"
   ]
  },
  {
   "cell_type": "code",
   "execution_count": null,
   "id": "d9ab406b-bf92-4a45-939d-3fcc8c05313e",
   "metadata": {},
   "outputs": [],
   "source": []
  }
 ],
 "metadata": {
  "kernelspec": {
   "display_name": "Python 3 (ipykernel)",
   "language": "python",
   "name": "python3"
  },
  "language_info": {
   "codemirror_mode": {
    "name": "ipython",
    "version": 3
   },
   "file_extension": ".py",
   "mimetype": "text/x-python",
   "name": "python",
   "nbconvert_exporter": "python",
   "pygments_lexer": "ipython3",
   "version": "3.10.12"
  }
 },
 "nbformat": 4,
 "nbformat_minor": 5
}
