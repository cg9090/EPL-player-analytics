{
 "cells": [
  {
   "cell_type": "markdown",
   "id": "ff81b200-1b51-4590-9762-d71ab8766f6b",
   "metadata": {},
   "source": [
    " ## Python Imports\n",
    "\n",
    "1. **`requests`:** Used for making HTTP requests to fetch data from the Fantasy Premier League API.\n",
    "\n",
    "2. **`json`:** Provides methods for working with JSON data, used to parse the JSON response from the API.\n",
    "\n",
    "3. **`os`:** Allows interaction with the operating system, used for handling file paths and creating directories.\n",
    "\n",
    "4. **`MinMaxScaler` from `sklearn.preprocessing`:** A class from scikit-learn used for scaling numerical features, applied to normalize player \n",
    "data attributes.\n"
   ]
  },
  {
   "cell_type": "code",
   "execution_count": 1,
   "id": "a8a1be14-fa02-4246-ba32-59c59081ecd2",
   "metadata": {},
   "outputs": [
    {
     "name": "stderr",
     "output_type": "stream",
     "text": [
      "/usr/lib/python3/dist-packages/scipy/__init__.py:146: UserWarning: A NumPy version >=1.17.3 and <1.25.0 is required for this version of SciPy (detected version 1.26.3\n",
      "  warnings.warn(f\"A NumPy version >={np_minversion} and <{np_maxversion}\"\n"
     ]
    }
   ],
   "source": [
    "import requests\n",
    "import json\n",
    "import os\n",
    "from sklearn.preprocessing import MinMaxScaler"
   ]
  },
  {
   "cell_type": "markdown",
   "id": "4dfd9c85-6945-4f9a-b541-71a603082a31",
   "metadata": {},
   "source": [
    "## Fetching Premier League Data\n",
    "\n",
    "To retrieve data from the Fantasy Premier League API, the script makes use of the `requests` module. The provided code snippet fetches data from \n",
    "the URL \"https://fantasy.premierleague.com/api/bootstrap-static/\" and converts the HTTP response content into a JSON format using `r.json()`.\n",
    "The resulting data is stored in the `raw_premier_league_data` variable for further processing.\n"
   ]
  },
  {
   "cell_type": "code",
   "execution_count": 2,
   "id": "08367df3-6fbc-456b-bf5c-9876611b891d",
   "metadata": {},
   "outputs": [],
   "source": [
    "url = \"https://fantasy.premierleague.com/api/bootstrap-static/\"\n",
    "\n",
    "r = requests.get(url)\n",
    "\n",
    "raw_premier_league_data = r.json()"
   ]
  },
  {
   "cell_type": "markdown",
   "id": "40b6c95f-2d6e-4dfe-a90f-e530bd2c519b",
   "metadata": {},
   "source": [
    "## Displaying Keys from Premier League Data"
   ]
  },
  {
   "cell_type": "code",
   "execution_count": 3,
   "id": "3f2f3682-2894-4221-b6f5-6d65a97e3ced",
   "metadata": {},
   "outputs": [
    {
     "name": "stdout",
     "output_type": "stream",
     "text": [
      "Keys: dict_keys(['events', 'game_settings', 'phases', 'teams', 'total_players', 'elements', 'element_stats', 'element_types'])\n"
     ]
    }
   ],
   "source": [
    "print(\"Keys:\", raw_premier_league_data.keys())"
   ]
  },
  {
   "cell_type": "markdown",
   "id": "4fb5d033-98ca-4a84-b22d-f16f6e44ac38",
   "metadata": {},
   "source": [
    "## Extracting and Displaying Team Data\n",
    "\n",
    "To work with team data from the Premier League dataset, the script performs the following steps:\n",
    "\n",
    "- Fetches the team data from the Premier League API.\n",
    "- Prints the keys of the first team in the dataset.\n",
    "- Specifies the desired keys to keep (`'code', 'id', 'name', 'short_name'`).\n",
    "- Creates a new list with dictionaries containing only the desired keys for each team.\n",
    "- Displays the shortened list of teams.\n"
   ]
  },
  {
   "cell_type": "code",
   "execution_count": 4,
   "id": "4f101bd8-008d-499f-8e44-48eb8da91c22",
   "metadata": {},
   "outputs": [
    {
     "name": "stdout",
     "output_type": "stream",
     "text": [
      "dict_keys(['code', 'draw', 'form', 'id', 'loss', 'name', 'played', 'points', 'position', 'short_name', 'strength', 'team_division', 'unavailable', 'win', 'strength_overall_home', 'strength_overall_away', 'strength_attack_home', 'strength_attack_away', 'strength_defence_home', 'strength_defence_away', 'pulse_id'])\n",
      "\n",
      "[{'code': 3, 'id': 1, 'name': 'Arsenal', 'short_name': 'ARS'}, {'code': 7, 'id': 2, 'name': 'Aston Villa', 'short_name': 'AVL'}, {'code': 91, 'id': 3, 'name': 'Bournemouth', 'short_name': 'BOU'}, {'code': 94, 'id': 4, 'name': 'Brentford', 'short_name': 'BRE'}, {'code': 36, 'id': 5, 'name': 'Brighton', 'short_name': 'BHA'}, {'code': 90, 'id': 6, 'name': 'Burnley', 'short_name': 'BUR'}, {'code': 8, 'id': 7, 'name': 'Chelsea', 'short_name': 'CHE'}, {'code': 31, 'id': 8, 'name': 'Crystal Palace', 'short_name': 'CRY'}, {'code': 11, 'id': 9, 'name': 'Everton', 'short_name': 'EVE'}, {'code': 54, 'id': 10, 'name': 'Fulham', 'short_name': 'FUL'}, {'code': 14, 'id': 11, 'name': 'Liverpool', 'short_name': 'LIV'}, {'code': 102, 'id': 12, 'name': 'Luton', 'short_name': 'LUT'}, {'code': 43, 'id': 13, 'name': 'Man City', 'short_name': 'MCI'}, {'code': 1, 'id': 14, 'name': 'Man Utd', 'short_name': 'MUN'}, {'code': 4, 'id': 15, 'name': 'Newcastle', 'short_name': 'NEW'}, {'code': 17, 'id': 16, 'name': \"Nott'm Forest\", 'short_name': 'NFO'}, {'code': 49, 'id': 17, 'name': 'Sheffield Utd', 'short_name': 'SHU'}, {'code': 6, 'id': 18, 'name': 'Spurs', 'short_name': 'TOT'}, {'code': 21, 'id': 19, 'name': 'West Ham', 'short_name': 'WHU'}, {'code': 39, 'id': 20, 'name': 'Wolves', 'short_name': 'WOL'}]\n"
     ]
    }
   ],
   "source": [
    "raw_teams_data = raw_premier_league_data[\"teams\"]\n",
    "\n",
    "print(raw_teams_data[0].keys())\n",
    "print()\n",
    "\n",
    "# Specify the keys to keep\n",
    "desired_keys = ['code', 'id', 'name','short_name']\n",
    "\n",
    "# Create a new list with dictionaries containing only the desired keys\n",
    "teams = [{key: value for key, value in entry.items() if key in desired_keys} for entry in raw_teams_data]\n",
    "\n",
    "# Display the shortened list\n",
    "print(teams)"
   ]
  },
  {
   "cell_type": "markdown",
   "id": "d969be70-a997-44dc-8eab-2da89758f5be",
   "metadata": {},
   "source": [
    "## Creating Team Mapping\n",
    "\n",
    "To facilitate matching team names with team IDs used in player information, the script creates a dictionary mapping team IDs to their corresponding names. This is particularly useful when dealing with player data that references team IDs."
   ]
  },
  {
   "cell_type": "code",
   "execution_count": 5,
   "id": "6ea6d237-6703-4554-974d-75871098d435",
   "metadata": {},
   "outputs": [
    {
     "name": "stdout",
     "output_type": "stream",
     "text": [
      "{1: 'Arsenal', 2: 'Aston Villa', 3: 'Bournemouth', 4: 'Brentford', 5: 'Brighton', 6: 'Burnley', 7: 'Chelsea', 8: 'Crystal Palace', 9: 'Everton', 10: 'Fulham', 11: 'Liverpool', 12: 'Luton', 13: 'Man City', 14: 'Man Utd', 15: 'Newcastle', 16: \"Nott'm Forest\", 17: 'Sheffield Utd', 18: 'Spurs', 19: 'West Ham', 20: 'Wolves'}\n"
     ]
    }
   ],
   "source": [
    "# Create a dictionary mapping ids to corresponding team names\n",
    "team_mapping = {team['id']: team['name'] for team in teams}\n",
    "\n",
    "print(team_mapping)"
   ]
  },
  {
   "cell_type": "markdown",
   "id": "fa14c8ac-086b-4e31-a5df-b9fa1f0116c3",
   "metadata": {},
   "source": [
    "## Extracting and Displaying Player Positions\n",
    "\n",
    "To analyse player positions in the Premier League dataset, the script performs the following tasks:\n",
    "\n",
    "- Fetches player position data from the data collected earlier.\n",
    "- Prints the keys of the first player position entry in order to view which keys we want to keep.\n",
    "- Specifies the desired keys to keep (`'id', 'singular_name', 'singular_name_short'`).\n",
    "- Creates a new list with dictionaries containing only the desired keys for each player position.\n",
    "- Displays the shortened list of player positions."
   ]
  },
  {
   "cell_type": "code",
   "execution_count": 6,
   "id": "0c588ee6-7b47-47d3-a92c-70206e18e60f",
   "metadata": {},
   "outputs": [
    {
     "name": "stdout",
     "output_type": "stream",
     "text": [
      "dict_keys(['id', 'plural_name', 'plural_name_short', 'singular_name', 'singular_name_short', 'squad_select', 'squad_min_play', 'squad_max_play', 'ui_shirt_specific', 'sub_positions_locked', 'element_count'])\n",
      "\n",
      "[{'id': 1, 'singular_name': 'Goalkeeper', 'singular_name_short': 'GKP'}, {'id': 2, 'singular_name': 'Defender', 'singular_name_short': 'DEF'}, {'id': 3, 'singular_name': 'Midfielder', 'singular_name_short': 'MID'}, {'id': 4, 'singular_name': 'Forward', 'singular_name_short': 'FWD'}]\n"
     ]
    }
   ],
   "source": [
    "raw_positions_data = raw_premier_league_data[\"element_types\"]\n",
    "\n",
    "print(raw_positions_data[0].keys())\n",
    "print()\n",
    "\n",
    "# Specify the keys you want to keep\n",
    "desired_keys = ['id', 'singular_name', 'singular_name_short']\n",
    "\n",
    "# Create a new list with dictionaries containing only the desired keys\n",
    "positions = [{key: value for key, value in entry.items() if key in desired_keys} for entry in raw_positions_data]\n",
    "\n",
    "# Display the shortened list\n",
    "print(positions)"
   ]
  },
  {
   "cell_type": "markdown",
   "id": "f0c031b1-e600-499d-8d52-84eb9d981744",
   "metadata": {},
   "source": [
    "## Handling None Values in Player Data\n",
    "\n",
    "To ensure consistent data and handle potential None values in the player data, the script performs the following steps:\n",
    "\n",
    "- Retrieves player data from the original Premier League dataset.\n",
    "- Iterates through each player's data.\n",
    "- Replaces any None values with a default value (e.g., 0)."
   ]
  },
  {
   "cell_type": "code",
   "execution_count": 7,
   "id": "b0fb8cab-265d-4b32-a2be-bf0c63898a9d",
   "metadata": {},
   "outputs": [],
   "source": [
    "raw_player_data = raw_premier_league_data[\"elements\"]\n",
    "\n",
    "# Replace None values with a default value (0)\n",
    "for player in raw_player_data:\n",
    "    for key, value in player.items():\n",
    "        if value is None:\n",
    "            player[key] = 0"
   ]
  },
  {
   "cell_type": "markdown",
   "id": "ad86d539-f14b-4e62-b869-bbf4fa5f9a17",
   "metadata": {},
   "source": [
    "## Specifying Keys for Player Positions\n",
    "\n",
    "To streamline the analysis of player positions, the script defines specific sets of keys for different player positions. This helps organize and focus on relevant attributes for each position"
   ]
  },
  {
   "cell_type": "code",
   "execution_count": 8,
   "id": "6f72481b-b238-4611-9792-169bc5a6e730",
   "metadata": {},
   "outputs": [],
   "source": [
    "# Specify the keys you want to keep for each position\n",
    "desired_keys_general = ['code', 'id', 'first_name', 'second_name', 'element_type', 'form', 'chance_of_playing_next_round', 'now_cost',\n",
    "                        'points_per_game','selected_by_percent', 'team', 'team_code', 'total_points', 'yellow_cards', 'red_cards','bonus','bps',\n",
    "                        'influence', 'team_name']\n",
    "desired_keys_outfield = ['goals_scored', 'assists', 'penalties_missed', 'creativity', 'threat', 'ict_index','expected_goals',\n",
    "                                 'expected_assists', 'expected_goal_involvements'] + desired_keys_general\n",
    "desired_keys_midfielders = ['clean_sheets'] + desired_keys_outfield\n",
    "desired_keys_defenders = ['goals_conceded', 'clean_sheets','expected_goals_conceded', 'own_goals'] + desired_keys_outfield\n",
    "desired_keys_goalkeepers = ['goals_conceded', 'clean_sheets', 'expected_goals_conceded', 'penalties_saved', 'saves'] + desired_keys_general"
   ]
  },
  {
   "cell_type": "markdown",
   "id": "5da5df8c-8b45-4222-8e93-4bcbb5c66ebd",
   "metadata": {},
   "source": [
    "## Creating Dictionaries for Each Player Position\n",
    "\n",
    "This section of the script involves the creation of dictionaries to categorize players based on their positions. Additionally, the team name is added to each player's information based on the corresponding team ID. Here's an overview of the process:\n",
    "\n",
    "- **Team Name Addition:**\n",
    "  - The team name is added to each player's information by referencing the `team_mapping` dictionary, using the team ID.\n",
    "\n",
    "- **Player Categorization:**\n",
    "  - Players are categorized into the respective dictionaries (`defenders`, `attackers`, `midfielders`, `goalkeepers`) based on their position.\n"
   ]
  },
  {
   "cell_type": "code",
   "execution_count": 9,
   "id": "bbe7c1a1-e147-4ec5-b01a-f8b507b0ee38",
   "metadata": {},
   "outputs": [
    {
     "name": "stdout",
     "output_type": "stream",
     "text": [
      "Attackers: {'goals_scored': 0, 'assists': 0, 'penalties_missed': 0, 'creativity': '0.0', 'threat': '0.0', 'ict_index': '0.0', 'expected_goals': '0.00', 'expected_assists': '0.00', 'expected_goal_involvements': '0.00', 'code': 232223, 'id': 1, 'first_name': 'Folarin', 'second_name': 'Balogun', 'element_type': 4, 'form': '0.0', 'chance_of_playing_next_round': 0, 'now_cost': 44, 'points_per_game': '0.0', 'selected_by_percent': '0.2', 'team': 1, 'team_code': 3, 'total_points': 0, 'yellow_cards': 0, 'red_cards': 0, 'bonus': 0, 'bps': 0, 'influence': '0.0', 'team_name': 'Arsenal'}\n",
      "\n",
      "Midfielders: {'clean_sheets': 0, 'goals_scored': 0, 'assists': 1, 'penalties_missed': 0, 'creativity': '0.5', 'threat': '2.0', 'ict_index': '0.4', 'expected_goals': '0.00', 'expected_assists': '0.00', 'expected_goal_involvements': '0.00', 'code': 153256, 'id': 3, 'first_name': 'Mohamed', 'second_name': 'Elneny', 'element_type': 3, 'form': '0.0', 'chance_of_playing_next_round': 0, 'now_cost': 44, 'points_per_game': '4.0', 'selected_by_percent': '0.1', 'team': 1, 'team_code': 3, 'total_points': 4, 'yellow_cards': 0, 'red_cards': 0, 'bonus': 0, 'bps': 12, 'influence': '1.8', 'team_name': 'Arsenal'}\n",
      "\n",
      "Defenders: {'goals_conceded': 0, 'clean_sheets': 0, 'expected_goals_conceded': '0.00', 'own_goals': 0, 'goals_scored': 0, 'assists': 0, 'penalties_missed': 0, 'creativity': '0.0', 'threat': '0.0', 'ict_index': '0.0', 'expected_goals': '0.00', 'expected_assists': '0.00', 'expected_goal_involvements': '0.00', 'code': 58822, 'id': 2, 'first_name': 'Cédric', 'second_name': 'Alves Soares', 'element_type': 2, 'form': '0.0', 'chance_of_playing_next_round': 0, 'now_cost': 39, 'points_per_game': '0.0', 'selected_by_percent': '0.4', 'team': 1, 'team_code': 3, 'total_points': 0, 'yellow_cards': 0, 'red_cards': 0, 'bonus': 0, 'bps': 0, 'influence': '0.0', 'team_name': 'Arsenal'}\n",
      "\n",
      "Goalkeepers: {'goals_conceded': 4, 'clean_sheets': 2, 'expected_goals_conceded': '4.84', 'penalties_saved': 0, 'saves': 6, 'code': 225321, 'id': 17, 'first_name': 'Aaron', 'second_name': 'Ramsdale', 'element_type': 1, 'form': '0.0', 'chance_of_playing_next_round': 0, 'now_cost': 46, 'points_per_game': '3.4', 'selected_by_percent': '6.1', 'team': 1, 'team_code': 3, 'total_points': 17, 'yellow_cards': 0, 'red_cards': 0, 'bonus': 0, 'bps': 77, 'influence': '55.8', 'team_name': 'Arsenal'}\n"
     ]
    }
   ],
   "source": [
    "# Create dictionaries for each position\n",
    "defenders = []\n",
    "attackers = []\n",
    "midfielders = []\n",
    "goalkeepers = []\n",
    "\n",
    "for entry in raw_player_data:\n",
    "    position = entry.get('element_type')\n",
    "\n",
    "    # Adding team name base on team id\n",
    "    team_id = entry.get('team')\n",
    "    if team_id in team_mapping:\n",
    "        entry['team_name'] = team_mapping[team_id]\n",
    "    \n",
    "    if position == 1:\n",
    "        keys_to_use = desired_keys_goalkeepers\n",
    "        goalkeepers.append({key: entry[key] for key in keys_to_use})\n",
    "    elif position == 2:\n",
    "        keys_to_use = desired_keys_defenders\n",
    "        defenders.append({key: entry[key] for key in keys_to_use})\n",
    "    elif position == 3:\n",
    "        keys_to_use =  desired_keys_midfielders\n",
    "        midfielders.append({key: entry[key] for key in keys_to_use})\n",
    "    elif position == 4:\n",
    "        keys_to_use = desired_keys_outfield\n",
    "        attackers.append({key: entry[key] for key in keys_to_use})\n",
    "\n",
    "# Display the first dictionary for each position\n",
    "print(\"Attackers:\", attackers[0])\n",
    "print()\n",
    "print(\"Midfielders:\", midfielders[0])\n",
    "print()\n",
    "print(\"Defenders:\", defenders[0])\n",
    "print()\n",
    "print(\"Goalkeepers:\", goalkeepers[0])"
   ]
  },
  {
   "cell_type": "markdown",
   "id": "daef662d-9876-4ac4-8d14-495ec49d6baa",
   "metadata": {},
   "source": [
    "## Normalisation"
   ]
  },
  {
   "cell_type": "markdown",
   "id": "dcbc978c-8d4a-4360-a4f0-5e6e10815579",
   "metadata": {},
   "source": [
    "This section defines the attributes that will be normalised for different player positions. The normalisation process ensures that all values fall within a consistent scale for fair comparison across players."
   ]
  },
  {
   "cell_type": "code",
   "execution_count": 14,
   "id": "ac3ac44f-4d2f-418f-90a4-481083db31e4",
   "metadata": {},
   "outputs": [],
   "source": [
    "# Specify the attributes you want to normalize\n",
    "attributes_to_normalize_general = ['form', 'chance_of_playing_next_round', 'now_cost','points_per_game','selected_by_percent', 'total_points', \n",
    "                                   'yellow_cards', 'red_cards','bonus','bps','influence']\n",
    "attributes_to_normalize_outfield = ['goals_scored', 'assists', 'penalties_missed', 'creativity', 'threat', 'ict_index','expected_goals', \n",
    "                                    'expected_assists', 'expected_goal_involvements'] + attributes_to_normalize_general\n",
    "attributes_to_normalize_midfield = ['clean_sheets'] + attributes_to_normalize_outfield\n",
    "attributes_to_normalize_defence = ['goals_conceded', 'clean_sheets','expected_goals_conceded', 'own_goals'] + attributes_to_normalize_outfield\n",
    "attributes_to_normalize_goalkeeper = ['goals_conceded', 'clean_sheets', 'expected_goals_conceded', 'penalties_saved', 'saves'] + attributes_to_normalize_general\n"
   ]
  },
  {
   "cell_type": "markdown",
   "id": "bc14cbcf-0e9b-4ae8-918b-5bf975df2064",
   "metadata": {},
   "source": [
    "## Min-Max Normalisation for attributes\n",
    "\n",
    "In this step, the attributes specific to attackers are normalised using the Min-Max scaling technique. Min-Max scaling ensures that all attribute values fall within a standardised range, making them comparable. Here's a breakdown of the process:\n",
    "\n",
    "1. **Extract Attribute Values:**\n",
    "   - The values for the selected attributes for attackers are extracted into a 2D list.\n",
    "\n",
    "2. **Min-Max Scaling:**\n",
    "   - The `MinMaxScaler` from scikit-learn is used to perform Min-Max scaling on the selected attribute values.\n",
    "values.\n",
    "\n",
    "3. **Update Normalised Values:**\n",
    "   - The normalised attribute values are then updated back to the respective dictionaries for each position."
   ]
  },
  {
   "cell_type": "code",
   "execution_count": 15,
   "id": "1026d18c-91d9-4080-b04f-c73ab5db27c9",
   "metadata": {},
   "outputs": [],
   "source": [
    "# Extract the selected attribute values into a 2D list\n",
    "selected_attributes_values = [[player[attr] for attr in attributes_to_normalize_outfield] for player in attackers]\n",
    "\n",
    "# Use Min-Max scaling to normalise the selected attributes\n",
    "scaler = MinMaxScaler()\n",
    "normalized_attributes = scaler.fit_transform(selected_attributes_values)\n",
    "\n",
    "# Update the normalised values back to the dictionaries\n",
    "for i, player in enumerate(attackers):\n",
    "    for j, attr in enumerate(attributes_to_normalize_outfield):\n",
    "        player[attr] = normalized_attributes[i][j]"
   ]
  },
  {
   "cell_type": "markdown",
   "id": "5fc3db34-4203-4689-97f1-54bb206ed46d",
   "metadata": {},
   "source": [
    "This next section applies the same process to the other positions"
   ]
  },
  {
   "cell_type": "code",
   "execution_count": 16,
   "id": "4445471b-e07f-459f-8150-85471385dc47",
   "metadata": {},
   "outputs": [],
   "source": [
    "#Normalising for midfielders\n",
    "selected_attributes_values = [[player[attr] for attr in attributes_to_normalize_midfield] for player in midfielders]\n",
    "\n",
    "scaler = MinMaxScaler()\n",
    "normalized_attributes = scaler.fit_transform(selected_attributes_values)\n",
    "\n",
    "for i, player in enumerate(midfielders):\n",
    "    for j, attr in enumerate(attributes_to_normalize_midfield):\n",
    "        player[attr] = normalized_attributes[i][j]\n",
    "\n",
    "#Normalising for defenders\n",
    "selected_attributes_values = [[player[attr] for attr in attributes_to_normalize_defence] for player in defenders]\n",
    "\n",
    "scaler = MinMaxScaler()\n",
    "normalized_attributes = scaler.fit_transform(selected_attributes_values)\n",
    "\n",
    "for i, player in enumerate(defenders):\n",
    "    for j, attr in enumerate(attributes_to_normalize_defence):\n",
    "        player[attr] = normalized_attributes[i][j]\n",
    "\n",
    "#Normalising for goalkeepers\n",
    "selected_attributes_values = [[player[attr] for attr in attributes_to_normalize_goalkeeper] for player in goalkeepers]\n",
    "\n",
    "scaler = MinMaxScaler()\n",
    "normalized_attributes = scaler.fit_transform(selected_attributes_values)\n",
    "\n",
    "for i, player in enumerate(goalkeepers):\n",
    "    for j, attr in enumerate(attributes_to_normalize_goalkeeper):\n",
    "        player[attr] = normalized_attributes[i][j]"
   ]
  },
  {
   "cell_type": "markdown",
   "id": "fb8a44ce-fb58-4a62-9e60-0591b82309e6",
   "metadata": {},
   "source": [
    "We then display the results"
   ]
  },
  {
   "cell_type": "code",
   "execution_count": 17,
   "id": "1e1365ab-b14b-4533-8eed-cf437dc04ff2",
   "metadata": {},
   "outputs": [
    {
     "name": "stdout",
     "output_type": "stream",
     "text": [
      "{'goals_scored': 0.0, 'assists': 0.0, 'penalties_missed': 0.0, 'creativity': 0.0, 'threat': 0.0, 'ict_index': 0.0, 'expected_goals': 0.0, 'expected_assists': 0.0, 'expected_goal_involvements': 0.0, 'code': 232223, 'id': 1, 'first_name': 'Folarin', 'second_name': 'Balogun', 'element_type': 4, 'form': 0.058823529411764705, 'chance_of_playing_next_round': 0.0, 'now_cost': 0.02061855670103091, 'points_per_game': 0.0, 'selected_by_percent': 0.0036101083032490976, 'team': 1, 'team_code': 3, 'total_points': 0.0, 'yellow_cards': 0.0, 'red_cards': 0.0, 'bonus': 0.0, 'bps': 0.0, 'influence': 0.0, 'team_name': 'Arsenal'}\n",
      "{'clean_sheets': 0.0, 'goals_scored': 0.0, 'assists': 0.125, 'penalties_missed': 0.0, 'creativity': 0.0005817335660267597, 'threat': 0.002129925452609159, 'ict_index': 0.001716001716001716, 'expected_goals': 0.0, 'expected_assists': 0.0, 'expected_goal_involvements': 0.0, 'code': 153256, 'id': 3, 'first_name': 'Mohamed', 'second_name': 'Elneny', 'element_type': 3, 'form': 0.06666666666666667, 'chance_of_playing_next_round': 0.0, 'now_cost': 0.02247191011235955, 'points_per_game': 0.5128205128205129, 'selected_by_percent': 0.0016129032258064516, 'team': 1, 'team_code': 3, 'total_points': 0.02564102564102564, 'yellow_cards': 0.0, 'red_cards': 0.0, 'bonus': 0.0, 'bps': 0.029723991507430998, 'influence': 0.0023346303501945525, 'team_name': 'Arsenal'}\n",
      "{'goals_conceded': 0.0, 'clean_sheets': 0.0, 'expected_goals_conceded': 0.0, 'own_goals': 0.0, 'goals_scored': 0.0, 'assists': 0.0, 'penalties_missed': 0.0, 'creativity': 0.0, 'threat': 0.0, 'ict_index': 0.0, 'expected_goals': 0.0, 'expected_assists': 0.0, 'expected_goal_involvements': 0.0, 'code': 58822, 'id': 2, 'first_name': 'Cédric', 'second_name': 'Alves Soares', 'element_type': 2, 'form': 0.0, 'chance_of_playing_next_round': 0.0, 'now_cost': 0.021276595744680882, 'points_per_game': 0.0, 'selected_by_percent': 0.010498687664041995, 'team': 1, 'team_code': 3, 'total_points': 0.0, 'yellow_cards': 0.0, 'red_cards': 0.0, 'bonus': 0.0, 'bps': 0.0, 'influence': 0.0, 'team_name': 'Arsenal'}\n",
      "{'goals_conceded': 0.0784313725490196, 'clean_sheets': 0.2857142857142857, 'expected_goals_conceded': 0.11521066412758867, 'penalties_saved': 0.0, 'saves': 0.06521739130434782, 'code': 225321, 'id': 17, 'first_name': 'Aaron', 'second_name': 'Ramsdale', 'element_type': 1, 'form': 0.0, 'chance_of_playing_next_round': 0.0, 'now_cost': 0.4500000000000002, 'points_per_game': 0.6415094339622642, 'selected_by_percent': 0.16666666666666666, 'team': 1, 'team_code': 3, 'total_points': 0.2142857142857143, 'yellow_cards': 0.0, 'red_cards': 0.0, 'bonus': 0.0, 'bps': 0.18433179723502305, 'influence': 0.07903682719546742, 'team_name': 'Arsenal'}\n"
     ]
    }
   ],
   "source": [
    "# Display the normalized data\n",
    "print(attackers[0])\n",
    "print(midfielders[0])\n",
    "print(defenders[0])\n",
    "print(goalkeepers[0])"
   ]
  },
  {
   "cell_type": "code",
   "execution_count": null,
   "id": "102396a4-cd37-45da-9e40-3fe6817e42f4",
   "metadata": {},
   "outputs": [],
   "source": []
  }
 ],
 "metadata": {
  "kernelspec": {
   "display_name": "Python 3 (ipykernel)",
   "language": "python",
   "name": "python3"
  },
  "language_info": {
   "codemirror_mode": {
    "name": "ipython",
    "version": 3
   },
   "file_extension": ".py",
   "mimetype": "text/x-python",
   "name": "python",
   "nbconvert_exporter": "python",
   "pygments_lexer": "ipython3",
   "version": "3.10.12"
  }
 },
 "nbformat": 4,
 "nbformat_minor": 5
}
